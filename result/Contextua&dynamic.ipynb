{
 "cells": [
  {
   "cell_type": "code",
   "execution_count": 1,
   "metadata": {},
   "outputs": [],
   "source": [
    "import pandas as pd\n",
    "import numpy as np\n",
    "from sklearn.model_selection import train_test_split\n",
    "from sklearn.metrics import mean_squared_error, mean_absolute_error, confusion_matrix, classification_report\n",
    "from xgboost import XGBRegressor\n",
    "from sklearn.pipeline import Pipeline\n",
    "from sklearn.metrics import mean_squared_error, mean_absolute_error, confusion_matrix, classification_report, f1_score, precision_score, recall_score\n",
    "from sklearn.ensemble import RandomForestRegressor\n",
    "\n",
    "import numpy as np\n",
    "import matplotlib\n",
    "import matplotlib.pyplot as plt"
   ]
  },
  {
   "cell_type": "code",
   "execution_count": 2,
   "metadata": {},
   "outputs": [],
   "source": [
    "def valid(submission, priority):\n",
    "    coefficients_Dict = {\"P1\": 1, \"P2\": 1, \"P3\": 1, \"ALL\": 1}\n",
    "    coefficients = coefficients_Dict[priority]\n",
    "    priorityDays_dict = {\"P1\": 20, \"P2\": 60, \"P3\": 90}\n",
    "    daysAllowedList = priorityDays_dict[priority]\n",
    "    \n",
    "    submission[\"prediction\"] = pd.Series(submission[\"ClosedDay\"] >= coefficients * daysAllowedList,\n",
    "                                         index=submission.index)\n",
    "    \n",
    "    submission[\"truth\"] = pd.Series(submission[\"Actual\"] >= daysAllowedList, index=submission.index)\n",
    "    # submission[\"issueType\"] = test_df[\"issueType\"]\n",
    "    return submission\n",
    "\n",
    "def evaluate_XGB(trainX, trainy, testX, testy, priority):\n",
    "\n",
    "    pipeline = Pipeline([\n",
    "        ('regressor', XGBRegressor(max_depth=5, n_estimators=100, learning_rate=0.05)),\n",
    "    ])\n",
    "\n",
    "\n",
    "    pipeline.fit(trainX, trainy)\n",
    "\n",
    "    predictions = np.rint(pipeline.predict(testX)).astype(np.int64)\n",
    "\n",
    "\n",
    "    submission = pd.DataFrame({'ClosedDay': predictions, 'Actual': testy['ResolvedDay'].tolist()})\n",
    "\n",
    "    rmse = np.sqrt(mean_squared_error(predictions, testy))\n",
    "\n",
    "    mae = mean_absolute_error(predictions, testy)\n",
    "\n",
    "    valid(submission, priority)\n",
    "\n",
    "    f1 = f1_score(submission[\"truth\"], submission[\"prediction\"], average='weighted')\n",
    "    precision = precision_score(submission[\"truth\"], submission[\"prediction\"], average='weighted')\n",
    "    recall = recall_score(submission[\"truth\"], submission[\"prediction\"], average='weighted')\n",
    "\n",
    "    print(confusion_matrix(submission[\"truth\"], submission[\"prediction\"]))\n",
    "    print(classification_report(submission[\"truth\"], submission[\"prediction\"]))\n",
    "    return (f1, precision, recall)\n",
    "\n",
    "def evaluate_RF(trainX, trainy, testX, testy, priority):\n",
    "\n",
    "    pipeline = Pipeline([\n",
    "        ('regressor', RandomForestRegressor(n_estimators = 100, random_state = 0)),\n",
    "    ])\n",
    "\n",
    "\n",
    "    pipeline.fit(trainX, trainy)\n",
    "\n",
    "    predictions = np.rint(pipeline.predict(testX)).astype(np.int64)\n",
    "\n",
    "\n",
    "    submission = pd.DataFrame({'ClosedDay': predictions, 'Actual': testy['ResolvedDay'].tolist()})\n",
    "\n",
    "    rmse = np.sqrt(mean_squared_error(predictions, testy))\n",
    "\n",
    "    mae = mean_absolute_error(predictions, testy)\n",
    "\n",
    "    valid(submission, priority)\n",
    "\n",
    "    f1 = f1_score(submission[\"truth\"], submission[\"prediction\"], average='weighted')\n",
    "    precision = precision_score(submission[\"truth\"], submission[\"prediction\"], average='weighted')\n",
    "    recall = recall_score(submission[\"truth\"], submission[\"prediction\"], average='weighted')\n",
    "    print(f1, precision, recall)\n",
    "\n",
    "\n",
    "    print('rmse:', rmse)\n",
    "    print('mae:', mae)\n",
    "    print(confusion_matrix(submission[\"truth\"], submission[\"prediction\"]))\n",
    "    print(classification_report(submission[\"truth\"], submission[\"prediction\"]))\n",
    "    return (f1, precision, recall)"
   ]
  },
  {
   "cell_type": "markdown",
   "metadata": {},
   "source": [
    "# P1 Data "
   ]
  },
  {
   "cell_type": "code",
   "execution_count": 3,
   "metadata": {},
   "outputs": [
    {
     "name": "stdout",
     "output_type": "stream",
     "text": [
      "########25% lifetime prediction point ########\n",
      "Train: 2106 Test: 523\n",
      "\n",
      "-------------RF Result ------------\n"
     ]
    },
    {
     "name": "stderr",
     "output_type": "stream",
     "text": [
      "/Users/fjirigesi/anaconda3/lib/python3.8/site-packages/sklearn/pipeline.py:346: DataConversionWarning: A column-vector y was passed when a 1d array was expected. Please change the shape of y to (n_samples,), for example using ravel().\n",
      "  self._final_estimator.fit(Xt, y, **fit_params_last_step)\n"
     ]
    },
    {
     "name": "stdout",
     "output_type": "stream",
     "text": [
      "0.6243644478704369 0.6559726324766718 0.627151051625239\n",
      "rmse: 8.79107404084319\n",
      "mae: 6.866156787762907\n",
      "[[152 140]\n",
      " [ 55 176]]\n",
      "              precision    recall  f1-score   support\n",
      "\n",
      "       False       0.73      0.52      0.61       292\n",
      "        True       0.56      0.76      0.64       231\n",
      "\n",
      "    accuracy                           0.63       523\n",
      "   macro avg       0.65      0.64      0.63       523\n",
      "weighted avg       0.66      0.63      0.62       523\n",
      "\n",
      "-------------XGBoost Result ------------\n",
      "[[149 143]\n",
      " [ 59 172]]\n",
      "              precision    recall  f1-score   support\n",
      "\n",
      "       False       0.72      0.51      0.60       292\n",
      "        True       0.55      0.74      0.63       231\n",
      "\n",
      "    accuracy                           0.61       523\n",
      "   macro avg       0.63      0.63      0.61       523\n",
      "weighted avg       0.64      0.61      0.61       523\n",
      "\n"
     ]
    }
   ],
   "source": [
    "print('########25% lifetime prediction point ########')\n",
    "p1_25_train_url = \"./data/p1_25_train.csv\"\n",
    "p1_25_test_url = \"./data/p1_25_test.csv\"\n",
    "p1_train = pd.read_csv(p1_25_train_url)\n",
    "p1_test = pd.read_csv(p1_25_test_url)\n",
    "\n",
    "contextual_features = ['NCommentT', 'NActor', 'meanCommentSize', \n",
    "                      'nticketsByCreatorOpen', 'NCommentByActorsT', 'NticketsCreatedInProject',\n",
    "                       'NticketsCreatedInProjectT', 'NticketsCreatedInProjectClosed',\n",
    "                       'NticketsCreatedInProjectClosedT', 'NActivityInProject',\n",
    "                       'NActivityInProjectT']\n",
    "\n",
    "p1_trainX = p1_train[contextual_features]\n",
    "p1_testX = p1_test[contextual_features]\n",
    "\n",
    "y_train = p1_train[[\"ResolvedDay\"]]\n",
    "y_test = p1_test[[\"ResolvedDay\"]]\n",
    "\n",
    "print(\"Train:\", len(p1_trainX), \"Test:\", len(p1_testX))\n",
    "\n",
    "print()\n",
    "print('-------------RF Result ------------')\n",
    "p1_f1, p1_precision, p1_recall = evaluate_RF(p1_trainX, y_train, p1_testX, y_test, \"P1\")\n",
    "print('-------------XGBoost Result ------------')\n",
    "p1_f1, p1_precision, p1_recall = evaluate_XGB(p1_trainX, y_train, p1_testX, y_test, \"P1\")"
   ]
  },
  {
   "cell_type": "code",
   "execution_count": 4,
   "metadata": {},
   "outputs": [
    {
     "name": "stdout",
     "output_type": "stream",
     "text": [
      "########50% lifetime prediction point ########\n",
      "Train: 2094 Test: 535\n",
      "\n",
      "-------------RF Result ------------\n"
     ]
    },
    {
     "name": "stderr",
     "output_type": "stream",
     "text": [
      "/Users/fjirigesi/anaconda3/lib/python3.8/site-packages/sklearn/pipeline.py:346: DataConversionWarning: A column-vector y was passed when a 1d array was expected. Please change the shape of y to (n_samples,), for example using ravel().\n",
      "  self._final_estimator.fit(Xt, y, **fit_params_last_step)\n"
     ]
    },
    {
     "name": "stdout",
     "output_type": "stream",
     "text": [
      "0.5863827862081331 0.619407754315436 0.5906542056074766\n",
      "rmse: 9.45594803660786\n",
      "mae: 7.497196261682243\n",
      "[[142 156]\n",
      " [ 63 174]]\n",
      "              precision    recall  f1-score   support\n",
      "\n",
      "       False       0.69      0.48      0.56       298\n",
      "        True       0.53      0.73      0.61       237\n",
      "\n",
      "    accuracy                           0.59       535\n",
      "   macro avg       0.61      0.61      0.59       535\n",
      "weighted avg       0.62      0.59      0.59       535\n",
      "\n",
      "-------------XGBoost Result ------------\n",
      "[[136 162]\n",
      " [ 61 176]]\n",
      "              precision    recall  f1-score   support\n",
      "\n",
      "       False       0.69      0.46      0.55       298\n",
      "        True       0.52      0.74      0.61       237\n",
      "\n",
      "    accuracy                           0.58       535\n",
      "   macro avg       0.61      0.60      0.58       535\n",
      "weighted avg       0.62      0.58      0.58       535\n",
      "\n"
     ]
    }
   ],
   "source": [
    "print('########50% lifetime prediction point ########')\n",
    "p1_50_train_url = \"./data/p1_50_train.csv\"\n",
    "p1_50_test_url = \"./data/p1_50_test.csv\"\n",
    "p1_train = pd.read_csv(p1_25_train_url)\n",
    "p1_test = pd.read_csv(p1_25_test_url)\n",
    "\n",
    "\n",
    "p1_trainX = p1_train[contextual_features]\n",
    "p1_testX = p1_test[contextual_features]\n",
    "\n",
    "y_train = p1_train[[\"ResolvedDay\"]]\n",
    "y_test = p1_test[[\"ResolvedDay\"]]\n",
    "\n",
    "print(\"Train:\", len(p1_trainX), \"Test:\", len(p1_testX))\n",
    "\n",
    "print()\n",
    "print('-------------RF Result ------------')\n",
    "p1_f1, p1_precision, p1_recall = evaluate_RF(p1_trainX, y_train, p1_testX, y_test, \"P1\")\n",
    "print('-------------XGBoost Result ------------')\n",
    "p1_f1, p1_precision, p1_recall = evaluate_XGB(p1_trainX, y_train, p1_testX, y_test, \"P1\")"
   ]
  },
  {
   "cell_type": "code",
   "execution_count": 5,
   "metadata": {},
   "outputs": [
    {
     "name": "stdout",
     "output_type": "stream",
     "text": [
      "########75% lifetime prediction point ########\n",
      "Train: 2143 Test: 486\n",
      "\n",
      "-------------RF Result ------------\n"
     ]
    },
    {
     "name": "stderr",
     "output_type": "stream",
     "text": [
      "/Users/fjirigesi/anaconda3/lib/python3.8/site-packages/sklearn/pipeline.py:346: DataConversionWarning: A column-vector y was passed when a 1d array was expected. Please change the shape of y to (n_samples,), for example using ravel().\n",
      "  self._final_estimator.fit(Xt, y, **fit_params_last_step)\n"
     ]
    },
    {
     "name": "stdout",
     "output_type": "stream",
     "text": [
      "0.5780703686758284 0.6297371565113501 0.5802469135802469\n",
      "rmse: 8.963575124488314\n",
      "mae: 6.938271604938271\n",
      "[[135 153]\n",
      " [ 51 147]]\n",
      "              precision    recall  f1-score   support\n",
      "\n",
      "       False       0.73      0.47      0.57       288\n",
      "        True       0.49      0.74      0.59       198\n",
      "\n",
      "    accuracy                           0.58       486\n",
      "   macro avg       0.61      0.61      0.58       486\n",
      "weighted avg       0.63      0.58      0.58       486\n",
      "\n",
      "-------------XGBoost Result ------------\n",
      "[[145 143]\n",
      " [ 60 138]]\n",
      "              precision    recall  f1-score   support\n",
      "\n",
      "       False       0.71      0.50      0.59       288\n",
      "        True       0.49      0.70      0.58       198\n",
      "\n",
      "    accuracy                           0.58       486\n",
      "   macro avg       0.60      0.60      0.58       486\n",
      "weighted avg       0.62      0.58      0.58       486\n",
      "\n"
     ]
    }
   ],
   "source": [
    "print('########75% lifetime prediction point ########')\n",
    "p2_75_train_url = \"./data/p2_75_train.csv\"\n",
    "p2_75_test_url = \"./data/p2_75_test.csv\"\n",
    "p2_train = pd.read_csv(p2_75_train_url)\n",
    "p2_test = pd.read_csv(p2_75_test_url)\n",
    "\n",
    "\n",
    "p2_trainX = p2_train[contextual_features]\n",
    "p2_testX = p2_test[contextual_features]\n",
    "\n",
    "y_train = p2_train[[\"ResolvedDay\"]]\n",
    "y_test = p2_test[[\"ResolvedDay\"]]\n",
    "\n",
    "print(\"Train:\", len(p2_trainX), \"Test:\", len(p2_testX))\n",
    "\n",
    "print()\n",
    "print('-------------RF Result ------------')\n",
    "p2_f1, p2_precision, p2_recall = evaluate_RF(p2_trainX, y_train, p2_testX, y_test, \"P2\")\n",
    "print('-------------XGBoost Result ------------')\n",
    "p2_f1, p2_precision, p2_recall = evaluate_XGB(p2_trainX, y_train, p2_testX, y_test, \"P2\")\n"
   ]
  },
  {
   "cell_type": "markdown",
   "metadata": {},
   "source": [
    "# P2 bug reports"
   ]
  },
  {
   "cell_type": "code",
   "execution_count": 6,
   "metadata": {},
   "outputs": [
    {
     "name": "stdout",
     "output_type": "stream",
     "text": [
      "########25% lifetime prediction point ########\n",
      "Train: 3181 Test: 799\n",
      "\n",
      "-------------RF Result ------------\n"
     ]
    },
    {
     "name": "stderr",
     "output_type": "stream",
     "text": [
      "/Users/fjirigesi/anaconda3/lib/python3.8/site-packages/sklearn/pipeline.py:346: DataConversionWarning: A column-vector y was passed when a 1d array was expected. Please change the shape of y to (n_samples,), for example using ravel().\n",
      "  self._final_estimator.fit(Xt, y, **fit_params_last_step)\n"
     ]
    },
    {
     "name": "stdout",
     "output_type": "stream",
     "text": [
      "0.7279642835066158 0.7254104805808194 0.7309136420525657\n",
      "rmse: 19.62824074626893\n",
      "mae: 13.97872340425532\n",
      "[[493 101]\n",
      " [114  91]]\n",
      "              precision    recall  f1-score   support\n",
      "\n",
      "       False       0.81      0.83      0.82       594\n",
      "        True       0.47      0.44      0.46       205\n",
      "\n",
      "    accuracy                           0.73       799\n",
      "   macro avg       0.64      0.64      0.64       799\n",
      "weighted avg       0.73      0.73      0.73       799\n",
      "\n",
      "-------------XGBoost Result ------------\n",
      "[[508  86]\n",
      " [129  76]]\n",
      "              precision    recall  f1-score   support\n",
      "\n",
      "       False       0.80      0.86      0.83       594\n",
      "        True       0.47      0.37      0.41       205\n",
      "\n",
      "    accuracy                           0.73       799\n",
      "   macro avg       0.63      0.61      0.62       799\n",
      "weighted avg       0.71      0.73      0.72       799\n",
      "\n"
     ]
    }
   ],
   "source": [
    "print('########25% lifetime prediction point ########')\n",
    "p2_25_train_url = \"./data/p2_25_train.csv\"\n",
    "p2_25_test_url = \"./data/p2_25_test.csv\"\n",
    "p2_train = pd.read_csv(p2_75_train_url)\n",
    "p2_test = pd.read_csv(p2_75_test_url)\n",
    "\n",
    "\n",
    "p2_trainX = p2_train[contextual_features]\n",
    "p2_testX = p2_test[contextual_features]\n",
    "\n",
    "y_train = p2_train[[\"ResolvedDay\"]]\n",
    "y_test = p2_test[[\"ResolvedDay\"]]\n",
    "\n",
    "print(\"Train:\", len(p2_trainX), \"Test:\", len(p2_testX))\n",
    "\n",
    "print()\n",
    "print('-------------RF Result ------------')\n",
    "p2_f1, p2_precision, p2_recall = evaluate_RF(p2_trainX, y_train, p2_testX, y_test, \"P2\")\n",
    "print('-------------XGBoost Result ------------')\n",
    "p2_f1, p2_precision, p2_recall = evaluate_XGB(p2_trainX, y_train, p2_testX, y_test, \"P2\")"
   ]
  },
  {
   "cell_type": "code",
   "execution_count": 7,
   "metadata": {},
   "outputs": [
    {
     "name": "stdout",
     "output_type": "stream",
     "text": [
      "########50% lifetime prediction point ########\n",
      "Train: 3222 Test: 758\n",
      "\n",
      "-------------RF Result ------------\n"
     ]
    },
    {
     "name": "stderr",
     "output_type": "stream",
     "text": [
      "/Users/fjirigesi/anaconda3/lib/python3.8/site-packages/sklearn/pipeline.py:346: DataConversionWarning: A column-vector y was passed when a 1d array was expected. Please change the shape of y to (n_samples,), for example using ravel().\n",
      "  self._final_estimator.fit(Xt, y, **fit_params_last_step)\n"
     ]
    },
    {
     "name": "stdout",
     "output_type": "stream",
     "text": [
      "0.7269374734764401 0.7343249144943469 0.7216358839050132\n",
      "rmse: 18.163142243228656\n",
      "mae: 13.216358839050132\n",
      "[[430 120]\n",
      " [ 91 117]]\n",
      "              precision    recall  f1-score   support\n",
      "\n",
      "       False       0.83      0.78      0.80       550\n",
      "        True       0.49      0.56      0.53       208\n",
      "\n",
      "    accuracy                           0.72       758\n",
      "   macro avg       0.66      0.67      0.66       758\n",
      "weighted avg       0.73      0.72      0.73       758\n",
      "\n",
      "-------------XGBoost Result ------------\n",
      "[[458  92]\n",
      " [105 103]]\n",
      "              precision    recall  f1-score   support\n",
      "\n",
      "       False       0.81      0.83      0.82       550\n",
      "        True       0.53      0.50      0.51       208\n",
      "\n",
      "    accuracy                           0.74       758\n",
      "   macro avg       0.67      0.66      0.67       758\n",
      "weighted avg       0.74      0.74      0.74       758\n",
      "\n"
     ]
    }
   ],
   "source": [
    "print('########50% lifetime prediction point ########')\n",
    "p2_50_train_url = \"./data/p2_50_train.csv\"\n",
    "p2_50_test_url = \"./data/p2_50_test.csv\"\n",
    "p2_train = pd.read_csv(p2_75_train_url)\n",
    "p2_test = pd.read_csv(p2_75_test_url)\n",
    "\n",
    "\n",
    "p2_trainX = p2_train[contextual_features]\n",
    "p2_testX = p2_test[contextual_features]\n",
    "\n",
    "y_train = p2_train[[\"ResolvedDay\"]]\n",
    "y_test = p2_test[[\"ResolvedDay\"]]\n",
    "\n",
    "print(\"Train:\", len(p2_trainX), \"Test:\", len(p2_testX))\n",
    "\n",
    "print()\n",
    "print('-------------RF Result ------------')\n",
    "p2_f1, p2_precision, p2_recall = evaluate_RF(p2_trainX, y_train, p2_testX, y_test, \"P2\")\n",
    "print('-------------XGBoost Result ------------')\n",
    "p2_f1, p2_precision, p2_recall = evaluate_XGB(p2_trainX, y_train, p2_testX, y_test, \"P2\")"
   ]
  },
  {
   "cell_type": "code",
   "execution_count": 8,
   "metadata": {},
   "outputs": [
    {
     "name": "stdout",
     "output_type": "stream",
     "text": [
      "########75% lifetime prediction point ########\n",
      "Train: 3161 Test: 819\n",
      "\n",
      "-------------RF Result ------------\n"
     ]
    },
    {
     "name": "stderr",
     "output_type": "stream",
     "text": [
      "/Users/fjirigesi/anaconda3/lib/python3.8/site-packages/sklearn/pipeline.py:346: DataConversionWarning: A column-vector y was passed when a 1d array was expected. Please change the shape of y to (n_samples,), for example using ravel().\n",
      "  self._final_estimator.fit(Xt, y, **fit_params_last_step)\n"
     ]
    },
    {
     "name": "stdout",
     "output_type": "stream",
     "text": [
      "0.7164604942225136 0.7133235556082955 0.7203907203907204\n",
      "rmse: 20.62775493126369\n",
      "mae: 14.327228327228328\n",
      "[[488 105]\n",
      " [124 102]]\n",
      "              precision    recall  f1-score   support\n",
      "\n",
      "       False       0.80      0.82      0.81       593\n",
      "        True       0.49      0.45      0.47       226\n",
      "\n",
      "    accuracy                           0.72       819\n",
      "   macro avg       0.65      0.64      0.64       819\n",
      "weighted avg       0.71      0.72      0.72       819\n",
      "\n",
      "-------------XGBoost Result ------------\n",
      "[[500  93]\n",
      " [129  97]]\n",
      "              precision    recall  f1-score   support\n",
      "\n",
      "       False       0.79      0.84      0.82       593\n",
      "        True       0.51      0.43      0.47       226\n",
      "\n",
      "    accuracy                           0.73       819\n",
      "   macro avg       0.65      0.64      0.64       819\n",
      "weighted avg       0.72      0.73      0.72       819\n",
      "\n"
     ]
    }
   ],
   "source": [
    "print('########75% lifetime prediction point ########')\n",
    "p2_75_train_url = \"./data/p2_75_train.csv\"\n",
    "p2_75_test_url = \"./data/p2_75_test.csv\"\n",
    "p2_train = pd.read_csv(p2_75_train_url)\n",
    "p2_test = pd.read_csv(p2_75_test_url)\n",
    "\n",
    "\n",
    "p2_trainX = p2_train[contextual_features]\n",
    "p2_testX = p2_test[contextual_features]\n",
    "\n",
    "y_train = p2_train[[\"ResolvedDay\"]]\n",
    "y_test = p2_test[[\"ResolvedDay\"]]\n",
    "\n",
    "print(\"Train:\", len(p2_trainX), \"Test:\", len(p2_testX))\n",
    "\n",
    "print()\n",
    "print('-------------RF Result ------------')\n",
    "p2_f1, p2_precision, p2_recall = evaluate_RF(p2_trainX, y_train, p2_testX, y_test, \"P2\")\n",
    "print('-------------XGBoost Result ------------')\n",
    "p2_f1, p2_precision, p2_recall = evaluate_XGB(p2_trainX, y_train, p2_testX, y_test, \"P2\")"
   ]
  },
  {
   "cell_type": "markdown",
   "metadata": {},
   "source": [
    "# P3 bug reports"
   ]
  },
  {
   "cell_type": "code",
   "execution_count": 9,
   "metadata": {},
   "outputs": [
    {
     "name": "stdout",
     "output_type": "stream",
     "text": [
      "########25% lifetime prediction point ########\n",
      "Train: 1330 Test: 342\n",
      "\n",
      "-------------RF Result ------------\n"
     ]
    },
    {
     "name": "stderr",
     "output_type": "stream",
     "text": [
      "/Users/fjirigesi/anaconda3/lib/python3.8/site-packages/sklearn/pipeline.py:346: DataConversionWarning: A column-vector y was passed when a 1d array was expected. Please change the shape of y to (n_samples,), for example using ravel().\n",
      "  self._final_estimator.fit(Xt, y, **fit_params_last_step)\n"
     ]
    },
    {
     "name": "stdout",
     "output_type": "stream",
     "text": [
      "0.6173609378897479 0.613133971291866 0.6228070175438597\n",
      "rmse: 25.885939645781242\n",
      "mae: 18.953216374269005\n",
      "[[172  59]\n",
      " [ 70  41]]\n",
      "              precision    recall  f1-score   support\n",
      "\n",
      "       False       0.71      0.74      0.73       231\n",
      "        True       0.41      0.37      0.39       111\n",
      "\n",
      "    accuracy                           0.62       342\n",
      "   macro avg       0.56      0.56      0.56       342\n",
      "weighted avg       0.61      0.62      0.62       342\n",
      "\n",
      "-------------XGBoost Result ------------\n",
      "[[193  38]\n",
      " [ 71  40]]\n",
      "              precision    recall  f1-score   support\n",
      "\n",
      "       False       0.73      0.84      0.78       231\n",
      "        True       0.51      0.36      0.42       111\n",
      "\n",
      "    accuracy                           0.68       342\n",
      "   macro avg       0.62      0.60      0.60       342\n",
      "weighted avg       0.66      0.68      0.66       342\n",
      "\n"
     ]
    }
   ],
   "source": [
    "print('########25% lifetime prediction point ########')\n",
    "p3_25_train_url = \"./data/p3_25_train.csv\"\n",
    "p3_25_test_url = \"./data/p3_25_test.csv\"\n",
    "\n",
    "p3_train = pd.read_csv(p3_25_train_url)\n",
    "p3_test = pd.read_csv(p3_25_test_url)\n",
    "\n",
    "p3_trainX = p3_train[contextual_features]\n",
    "p3_testX = p3_test[contextual_features]\n",
    "\n",
    "p3_y_train = p3_train[[\"ResolvedDay\"]]\n",
    "p3_y_test = p3_test[[\"ResolvedDay\"]]\n",
    "\n",
    "print(\"Train:\", len(p3_trainX), \"Test:\", len(p3_testX))\n",
    "\n",
    "print()\n",
    "print('-------------RF Result ------------')\n",
    "p3_f1, p3_precision, p3_recall = evaluate_RF(p3_trainX, p3_y_train, p3_testX, p3_y_test, \"P3\")\n",
    "print('-------------XGBoost Result ------------')\n",
    "p3_f1, p3_precision, p3_recall = evaluate_XGB(p3_trainX, p3_y_train, p3_testX, p3_y_test, \"P3\")"
   ]
  },
  {
   "cell_type": "code",
   "execution_count": 10,
   "metadata": {},
   "outputs": [
    {
     "name": "stdout",
     "output_type": "stream",
     "text": [
      "########50% lifetime prediction point ########\n",
      "Train: 1328 Test: 344\n",
      "\n",
      "-------------RF Result ------------\n"
     ]
    },
    {
     "name": "stderr",
     "output_type": "stream",
     "text": [
      "/Users/fjirigesi/anaconda3/lib/python3.8/site-packages/sklearn/pipeline.py:346: DataConversionWarning: A column-vector y was passed when a 1d array was expected. Please change the shape of y to (n_samples,), for example using ravel().\n",
      "  self._final_estimator.fit(Xt, y, **fit_params_last_step)\n"
     ]
    },
    {
     "name": "stdout",
     "output_type": "stream",
     "text": [
      "0.6814075566135629 0.6763724388346157 0.6976744186046512\n",
      "rmse: 29.077732629689695\n",
      "mae: 20.40988372093023\n",
      "[[202  37]\n",
      " [ 67  38]]\n",
      "              precision    recall  f1-score   support\n",
      "\n",
      "       False       0.75      0.85      0.80       239\n",
      "        True       0.51      0.36      0.42       105\n",
      "\n",
      "    accuracy                           0.70       344\n",
      "   macro avg       0.63      0.60      0.61       344\n",
      "weighted avg       0.68      0.70      0.68       344\n",
      "\n",
      "-------------XGBoost Result ------------\n",
      "[[199  40]\n",
      " [ 76  29]]\n",
      "              precision    recall  f1-score   support\n",
      "\n",
      "       False       0.72      0.83      0.77       239\n",
      "        True       0.42      0.28      0.33       105\n",
      "\n",
      "    accuracy                           0.66       344\n",
      "   macro avg       0.57      0.55      0.55       344\n",
      "weighted avg       0.63      0.66      0.64       344\n",
      "\n"
     ]
    }
   ],
   "source": [
    "print('########50% lifetime prediction point ########')\n",
    "p3_50_train_url = \"./data/p3_50_train.csv\"\n",
    "p3_50_test_url = \"./data/p3_50_test.csv\"\n",
    "\n",
    "p3_train = pd.read_csv(p3_50_train_url)\n",
    "p3_test = pd.read_csv(p3_50_test_url)\n",
    "\n",
    "p3_trainX = p3_train[contextual_features]\n",
    "p3_testX = p3_test[contextual_features]\n",
    "\n",
    "p3_y_train = p3_train[[\"ResolvedDay\"]]\n",
    "p3_y_test = p3_test[[\"ResolvedDay\"]]\n",
    "\n",
    "print(\"Train:\", len(p3_trainX), \"Test:\", len(p3_testX))\n",
    "\n",
    "print()\n",
    "print('-------------RF Result ------------')\n",
    "p3_f1, p3_precision, p3_recall = evaluate_RF(p3_trainX, p3_y_train, p3_testX, p3_y_test, \"P3\")\n",
    "print('-------------XGBoost Result ------------')\n",
    "p3_f1, p3_precision, p3_recall = evaluate_XGB(p3_trainX, p3_y_train, p3_testX, p3_y_test, \"P3\")"
   ]
  },
  {
   "cell_type": "code",
   "execution_count": 11,
   "metadata": {},
   "outputs": [
    {
     "name": "stdout",
     "output_type": "stream",
     "text": [
      "########75% lifetime prediction point ########\n",
      "Train: 1363 Test: 309\n",
      "\n",
      "-------------RF Result ------------\n"
     ]
    },
    {
     "name": "stderr",
     "output_type": "stream",
     "text": [
      "/Users/fjirigesi/anaconda3/lib/python3.8/site-packages/sklearn/pipeline.py:346: DataConversionWarning: A column-vector y was passed when a 1d array was expected. Please change the shape of y to (n_samples,), for example using ravel().\n",
      "  self._final_estimator.fit(Xt, y, **fit_params_last_step)\n"
     ]
    },
    {
     "name": "stdout",
     "output_type": "stream",
     "text": [
      "0.6941478088490307 0.6889674439189003 0.7022653721682848\n",
      "rmse: 26.67119702617529\n",
      "mae: 18.93851132686084\n",
      "[[181  39]\n",
      " [ 53  36]]\n",
      "              precision    recall  f1-score   support\n",
      "\n",
      "       False       0.77      0.82      0.80       220\n",
      "        True       0.48      0.40      0.44        89\n",
      "\n",
      "    accuracy                           0.70       309\n",
      "   macro avg       0.63      0.61      0.62       309\n",
      "weighted avg       0.69      0.70      0.69       309\n",
      "\n",
      "-------------XGBoost Result ------------\n",
      "[[181  39]\n",
      " [ 61  28]]\n",
      "              precision    recall  f1-score   support\n",
      "\n",
      "       False       0.75      0.82      0.78       220\n",
      "        True       0.42      0.31      0.36        89\n",
      "\n",
      "    accuracy                           0.68       309\n",
      "   macro avg       0.58      0.57      0.57       309\n",
      "weighted avg       0.65      0.68      0.66       309\n",
      "\n"
     ]
    }
   ],
   "source": [
    "print('########75% lifetime prediction point ########')\n",
    "p3_75_train_url = \"./data/p3_75_train.csv\"\n",
    "p3_75_test_url = \"./data/p3_75_test.csv\"\n",
    "\n",
    "p3_train = pd.read_csv(p3_75_train_url)\n",
    "p3_test = pd.read_csv(p3_75_test_url)\n",
    "\n",
    "p3_trainX = p3_train[contextual_features]\n",
    "p3_testX = p3_test[contextual_features]\n",
    "\n",
    "p3_y_train = p3_train[[\"ResolvedDay\"]]\n",
    "p3_y_test = p3_test[[\"ResolvedDay\"]]\n",
    "\n",
    "print(\"Train:\", len(p3_trainX), \"Test:\", len(p3_testX))\n",
    "\n",
    "print()\n",
    "print('-------------RF Result ------------')\n",
    "p3_f1, p3_precision, p3_recall = evaluate_RF(p3_trainX, p3_y_train, p3_testX, p3_y_test, \"P3\")\n",
    "print('-------------XGBoost Result ------------')\n",
    "p3_f1, p3_precision, p3_recall = evaluate_XGB(p3_trainX, p3_y_train, p3_testX, p3_y_test, \"P3\")"
   ]
  },
  {
   "cell_type": "code",
   "execution_count": null,
   "metadata": {},
   "outputs": [],
   "source": []
  }
 ],
 "metadata": {
  "kernelspec": {
   "display_name": "Python 3",
   "language": "python",
   "name": "python3"
  },
  "language_info": {
   "codemirror_mode": {
    "name": "ipython",
    "version": 3
   },
   "file_extension": ".py",
   "mimetype": "text/x-python",
   "name": "python",
   "nbconvert_exporter": "python",
   "pygments_lexer": "ipython3",
   "version": "3.8.5"
  }
 },
 "nbformat": 4,
 "nbformat_minor": 4
}
